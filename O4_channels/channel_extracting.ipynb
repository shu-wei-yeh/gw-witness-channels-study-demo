{
 "cells": [
  {
   "cell_type": "markdown",
   "metadata": {},
   "source": [
    "#### Channel Extraction \n",
    "\n",
    "You can use this code to extract target witness channels using keywords from the K1 O4a channel list."
   ]
  },
  {
   "cell_type": "code",
   "execution_count": null,
   "metadata": {},
   "outputs": [],
   "source": [
    "import re\n",
    "\n",
    "# File paths\n",
    "input_file_path = '/home/shu-wei.yeh/K1-O4a/O4_channels/O4a_witness_channels.txt'\n",
    "output_file_path = '/home/shu-wei.yeh/K1-O4a/O4_channels/filtered_channels.txt'\n",
    "\n",
    "# Keywords to include and exclude\n",
    "keywords = ['PEM', 'PSL', 'OUT', 'DQ']\n",
    "\n",
    "# Open the input file and read strings\n",
    "with open(input_file_path, 'r') as input_file:\n",
    "    input_strings = input_file.readlines()\n",
    "\n",
    "# Initialize a list to store strings containing all keywords\n",
    "strings_with_all_keywords = []\n",
    "\n",
    "# Loop through each input string and check for all keywords\n",
    "for input_string in input_strings:\n",
    "    if all(keyword in input_string for keyword in keywords):\n",
    "        strings_with_all_keywords.append(input_string.strip())  # Remove leading/trailing spaces\n",
    "\n",
    "# Save the results to a text file\n",
    "with open(output_file_path, 'w') as output_file:\n",
    "    for string_with_keywords in strings_with_all_keywords:\n",
    "        output_file.write(string_with_keywords + '\\n')\n",
    "\n",
    "# Optionally, print a confirmation\n",
    "print(f\"Strings containing all keywords have been saved to {output_file_path}\")"
   ]
  }
 ],
 "metadata": {
  "kernelspec": {
   "display_name": "igwn-py38",
   "language": "python",
   "name": "python3"
  },
  "language_info": {
   "codemirror_mode": {
    "name": "ipython",
    "version": 3
   },
   "file_extension": ".py",
   "mimetype": "text/x-python",
   "name": "python",
   "nbconvert_exporter": "python",
   "pygments_lexer": "ipython3",
   "version": "3.8.17"
  }
 },
 "nbformat": 4,
 "nbformat_minor": 2
}
